{
 "cells": [
  {
   "cell_type": "code",
   "execution_count": 1,
   "id": "e2cfd749",
   "metadata": {},
   "outputs": [],
   "source": [
    "import numpy as np \n",
    "import nltk \n",
    "import string\n",
    "import random"
   ]
  },
  {
   "cell_type": "code",
   "execution_count": 2,
   "id": "748170f6",
   "metadata": {},
   "outputs": [
    {
     "name": "stderr",
     "output_type": "stream",
     "text": [
      "[nltk_data] Downloading package punkt to C:\\Users\\Sorbajit\n",
      "[nltk_data]     Goswami\\AppData\\Roaming\\nltk_data...\n",
      "[nltk_data]   Package punkt is already up-to-date!\n",
      "[nltk_data] Downloading package wordnet to C:\\Users\\Sorbajit\n",
      "[nltk_data]     Goswami\\AppData\\Roaming\\nltk_data...\n",
      "[nltk_data]   Package wordnet is already up-to-date!\n"
     ]
    }
   ],
   "source": [
    "f = open('chatbot1.txt','r',errors='ignore')\n",
    "raw_doc = f.read()\n",
    "raw_doc = raw_doc.lower()\n",
    "nltk.download('punkt')\n",
    "nltk.download('wordnet')\n",
    "sent_tokens = nltk.sent_tokenize(raw_doc)\n",
    "word_tokens = nltk.word_tokenize(raw_doc)"
   ]
  },
  {
   "cell_type": "code",
   "execution_count": 3,
   "id": "7ded977d",
   "metadata": {},
   "outputs": [
    {
     "data": {
      "text/plain": [
       "['i am sorbajit goswami.', 'i am a python man.']"
      ]
     },
     "execution_count": 3,
     "metadata": {},
     "output_type": "execute_result"
    }
   ],
   "source": [
    "sent_tokens[:2]"
   ]
  },
  {
   "cell_type": "code",
   "execution_count": 4,
   "id": "f225f06d",
   "metadata": {},
   "outputs": [
    {
     "data": {
      "text/plain": [
       "['i', 'am', 'sorbajit', 'goswami', '.', 'i', 'am', 'a', 'python', 'man', '.']"
      ]
     },
     "execution_count": 4,
     "metadata": {},
     "output_type": "execute_result"
    }
   ],
   "source": [
    "word_tokens[:20]"
   ]
  },
  {
   "cell_type": "code",
   "execution_count": 5,
   "id": "2b3a0151",
   "metadata": {},
   "outputs": [],
   "source": [
    "lemmer = nltk.stem.WordNetLemmatizer()\n",
    "def LemTokens(tokens):\n",
    "    return[lemmer.lemmatize(token) for token in tokens]\n",
    "remove_punct_dict = dict((ord(punct),None) for punct in string.punctuation)\n",
    "def LemNormalize(text):\n",
    "    return LemTokens(nltk.word_tokenize(text.lower().translate(remove_punct_dict)))"
   ]
  },
  {
   "cell_type": "code",
   "execution_count": 6,
   "id": "047b3f7f",
   "metadata": {},
   "outputs": [],
   "source": [
    "GREET_INPUTS = (\"hello\",\"hi\",\"sup\",\"what's up\",\"hey\")\n",
    "GREET_RESPONSES = [\"hi\",\"hey\",\"*nods*\",\"hi there\",\"hello\",\"I am glad to talk with you!\"]\n",
    "def greet (sentence):\n",
    "    for word in sentence.split():\n",
    "        if word.lower() in GREET_INPUTS :\n",
    "            return random.choice(GREET_RESPONSES)\n",
    "    "
   ]
  },
  {
   "cell_type": "code",
   "execution_count": 7,
   "id": "cff7e4bb",
   "metadata": {},
   "outputs": [],
   "source": [
    "from sklearn.feature_extraction.text import TfidfVectorizer\n",
    "from sklearn.metrics.pairwise import cosine_similarity\n",
    " "
   ]
  },
  {
   "cell_type": "code",
   "execution_count": 8,
   "id": "b3d62a42",
   "metadata": {},
   "outputs": [],
   "source": [
    "def response (user_response):\n",
    "    robo1_response=''\n",
    "    TfidfVec = TfidfVectorizer(tokenizer=LemNormalize , stop_words='english')\n",
    "    tfidf = TfidfVec.fit_transform(sent_tokens)\n",
    "    vals = cosine_similarity(tfidf[-1],tfidf)\n",
    "    idx = vals.argsort()[0][-2]\n",
    "    flat = vals.flatten()\n",
    "    flat.sort()\n",
    "    req_tfidf = flat[-2]\n",
    "    if(req_tfidf == 0):\n",
    "        robo1_response = robo1_response + \"I am sorry! I don't u derstand you\"\n",
    "        return robo1_response  \n",
    "    else:\n",
    "        robo1_response = robo1_response + sent_tokens[idx]\n",
    "        return robo1_response  \n",
    "        \n",
    "        "
   ]
  },
  {
   "cell_type": "code",
   "execution_count": null,
   "id": "46a800f9",
   "metadata": {},
   "outputs": [
    {
     "name": "stdout",
     "output_type": "stream",
     "text": [
      "BOT:My name is RISHI. Let's have a conversation! Also if you want to exit any time , just type Bye!\n",
      "hi\n",
      "BOT:hi\n",
      "meaning of life\n",
      "BOT: "
     ]
    },
    {
     "name": "stderr",
     "output_type": "stream",
     "text": [
      "C:\\Users\\Sorbajit Goswami\\anaconda3\\lib\\site-packages\\sklearn\\feature_extraction\\text.py:388: UserWarning: Your stop_words may be inconsistent with your preprocessing. Tokenizing the stop words generated tokens ['ha', 'le', 'u', 'wa'] not in stop_words.\n",
      "  warnings.warn('Your stop_words may be inconsistent with '\n"
     ]
    },
    {
     "name": "stdout",
     "output_type": "stream",
     "text": [
      "I am sorry! I don't u derstand you\n",
      "describe mango\n",
      "BOT: I am sorry! I don't u derstand you\n",
      "hello\n",
      "BOT:*nods*\n"
     ]
    }
   ],
   "source": [
    "flag = True \n",
    "print(\"BOT:My name is RISHI. Let's have a conversation! Also if you want to exit any time , just type Bye!\")\n",
    "while(flag==True):\n",
    "    user_response=input()\n",
    "    user_response = user_response.lower()\n",
    "    if(user_response != \"Bye\"):\n",
    "        if(user_response == 'thanks!'or user_response == 'thanks you!' ):\n",
    "            flag = False\n",
    "            print(\"BOT : You are welcome...\")\n",
    "        else:\n",
    "            if(greet(user_response)!= None):\n",
    "                print(\"BOT:\"+greet(user_response)) \n",
    "            else:\n",
    "                sent_tokens.append(user_response)\n",
    "                word_tokens = word_tokens + nltk.word_tokenize(user_response)\n",
    "                final_words = list(set(word_tokens))\n",
    "                print(\"BOT: \" , end=\"\")\n",
    "                print(response(user_response))\n",
    "                sent_tokens.remove(user_response)\n",
    "    else:\n",
    "        flag = False\n",
    "        print(\"BOT: Good bye ! Take care <3 \")\n",
    "           \n",
    "        \n",
    "        \n",
    "        "
   ]
  },
  {
   "cell_type": "code",
   "execution_count": null,
   "id": "9b0580f8",
   "metadata": {},
   "outputs": [],
   "source": [
    "##https://www.youtube.com/watch?v=c_gXrw1RoKo"
   ]
  }
 ],
 "metadata": {
  "kernelspec": {
   "display_name": "Python 3",
   "language": "python",
   "name": "python3"
  },
  "language_info": {
   "codemirror_mode": {
    "name": "ipython",
    "version": 3
   },
   "file_extension": ".py",
   "mimetype": "text/x-python",
   "name": "python",
   "nbconvert_exporter": "python",
   "pygments_lexer": "ipython3",
   "version": "3.8.8"
  }
 },
 "nbformat": 4,
 "nbformat_minor": 5
}
